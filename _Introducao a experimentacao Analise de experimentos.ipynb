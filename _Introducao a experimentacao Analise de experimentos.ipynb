{
 "cells": [
  {
   "cell_type": "markdown",
   "id": "2c633f59",
   "metadata": {},
   "source": [
    "# Introdução a analise de experimentos"
   ]
  },
  {
   "cell_type": "code",
   "execution_count": null,
   "id": "838b8a92",
   "metadata": {},
   "outputs": [],
   "source": []
  },
  {
   "cell_type": "markdown",
   "id": "2a6aca20",
   "metadata": {},
   "source": [
    "## Importando Bibliotecas"
   ]
  },
  {
   "cell_type": "code",
   "execution_count": 30,
   "id": "732bddf3",
   "metadata": {},
   "outputs": [],
   "source": [
    "import pandas as pd\n",
    "import numpy as np\n",
    "import seaborn as sns\n",
    "import statsmodels.api as sm\n",
    "import statsmodels.formula.api as smf"
   ]
  },
  {
   "cell_type": "code",
   "execution_count": null,
   "id": "176a3bd3",
   "metadata": {},
   "outputs": [],
   "source": []
  },
  {
   "cell_type": "markdown",
   "id": "588f2bec",
   "metadata": {},
   "source": [
    "## Construir uma matriz representando todos os ensaios realizados:"
   ]
  },
  {
   "cell_type": "code",
   "execution_count": 13,
   "id": "defbf76f",
   "metadata": {},
   "outputs": [],
   "source": [
    "ensaios = np.array ([ [-1,-1],[1,-1],[-1,1],[1,1]])      #Trago minhas amostra em um array"
   ]
  },
  {
   "cell_type": "code",
   "execution_count": 14,
   "id": "b979289e",
   "metadata": {},
   "outputs": [
    {
     "data": {
      "text/html": [
       "<div>\n",
       "<style scoped>\n",
       "    .dataframe tbody tr th:only-of-type {\n",
       "        vertical-align: middle;\n",
       "    }\n",
       "\n",
       "    .dataframe tbody tr th {\n",
       "        vertical-align: top;\n",
       "    }\n",
       "\n",
       "    .dataframe thead th {\n",
       "        text-align: right;\n",
       "    }\n",
       "</style>\n",
       "<table border=\"1\" class=\"dataframe\">\n",
       "  <thead>\n",
       "    <tr style=\"text-align: right;\">\n",
       "      <th></th>\n",
       "      <th>Farinha</th>\n",
       "      <th>Chocolate</th>\n",
       "    </tr>\n",
       "  </thead>\n",
       "  <tbody>\n",
       "    <tr>\n",
       "      <th>0</th>\n",
       "      <td>-1</td>\n",
       "      <td>-1</td>\n",
       "    </tr>\n",
       "    <tr>\n",
       "      <th>1</th>\n",
       "      <td>1</td>\n",
       "      <td>-1</td>\n",
       "    </tr>\n",
       "    <tr>\n",
       "      <th>2</th>\n",
       "      <td>-1</td>\n",
       "      <td>1</td>\n",
       "    </tr>\n",
       "    <tr>\n",
       "      <th>3</th>\n",
       "      <td>1</td>\n",
       "      <td>1</td>\n",
       "    </tr>\n",
       "  </tbody>\n",
       "</table>\n",
       "</div>"
      ],
      "text/plain": [
       "   Farinha  Chocolate\n",
       "0       -1         -1\n",
       "1        1         -1\n",
       "2       -1          1\n",
       "3        1          1"
      ]
     },
     "execution_count": 14,
     "metadata": {},
     "output_type": "execute_result"
    }
   ],
   "source": [
    "experimento = pd.DataFrame(ensaios,columns = ['Farinha', 'Chocolate']) #incluo em um dataframe nomeando cada coluna\n",
    "experimento"
   ]
  },
  {
   "cell_type": "code",
   "execution_count": 15,
   "id": "c8710a00",
   "metadata": {},
   "outputs": [],
   "source": [
    "experimento ['Porcoes'] = [19,37,24,49] #incluo dentro do meu dataframe uma coluna com as porcoes que resultaram esse experimento"
   ]
  },
  {
   "cell_type": "code",
   "execution_count": 16,
   "id": "36f71420",
   "metadata": {},
   "outputs": [
    {
     "data": {
      "text/html": [
       "<div>\n",
       "<style scoped>\n",
       "    .dataframe tbody tr th:only-of-type {\n",
       "        vertical-align: middle;\n",
       "    }\n",
       "\n",
       "    .dataframe tbody tr th {\n",
       "        vertical-align: top;\n",
       "    }\n",
       "\n",
       "    .dataframe thead th {\n",
       "        text-align: right;\n",
       "    }\n",
       "</style>\n",
       "<table border=\"1\" class=\"dataframe\">\n",
       "  <thead>\n",
       "    <tr style=\"text-align: right;\">\n",
       "      <th></th>\n",
       "      <th>Farinha</th>\n",
       "      <th>Chocolate</th>\n",
       "      <th>Porcoes</th>\n",
       "    </tr>\n",
       "  </thead>\n",
       "  <tbody>\n",
       "    <tr>\n",
       "      <th>0</th>\n",
       "      <td>-1</td>\n",
       "      <td>-1</td>\n",
       "      <td>19</td>\n",
       "    </tr>\n",
       "    <tr>\n",
       "      <th>1</th>\n",
       "      <td>1</td>\n",
       "      <td>-1</td>\n",
       "      <td>37</td>\n",
       "    </tr>\n",
       "    <tr>\n",
       "      <th>2</th>\n",
       "      <td>-1</td>\n",
       "      <td>1</td>\n",
       "      <td>24</td>\n",
       "    </tr>\n",
       "    <tr>\n",
       "      <th>3</th>\n",
       "      <td>1</td>\n",
       "      <td>1</td>\n",
       "      <td>49</td>\n",
       "    </tr>\n",
       "  </tbody>\n",
       "</table>\n",
       "</div>"
      ],
      "text/plain": [
       "   Farinha  Chocolate  Porcoes\n",
       "0       -1         -1       19\n",
       "1        1         -1       37\n",
       "2       -1          1       24\n",
       "3        1          1       49"
      ]
     },
     "execution_count": 16,
     "metadata": {},
     "output_type": "execute_result"
    }
   ],
   "source": [
    "experimento"
   ]
  },
  {
   "cell_type": "markdown",
   "id": "ca0af59d",
   "metadata": {},
   "source": [
    "## Analisando graficamente o experimento"
   ]
  },
  {
   "cell_type": "code",
   "execution_count": 22,
   "id": "2f8b82eb",
   "metadata": {},
   "outputs": [],
   "source": [
    "sns.set_palette('terrain')  #palleta de cores que vou usar \n",
    "sns.set_style('darkgrid')  #estilo do grafico"
   ]
  },
  {
   "cell_type": "code",
   "execution_count": 26,
   "id": "ddc4f34b",
   "metadata": {},
   "outputs": [
    {
     "data": {
      "text/plain": [
       "<seaborn.axisgrid.FacetGrid at 0x25b3dc035e0>"
      ]
     },
     "execution_count": 26,
     "metadata": {},
     "output_type": "execute_result"
    },
    {
     "data": {
      "image/png": "[encoded data removed]",
      "text/plain": [
       "<Figure size 413.125x360 with 1 Axes>"
      ]
     },
     "metadata": {},
     "output_type": "display_data"
    }
   ],
   "source": [
    "axl = sns.lmplot(data = experimento, x = 'Farinha', y = 'Porcoes', ci = None, hue = 'Chocolate') #aqui eu consigo já identificar o impacto da farinha dentro do meu experimento \n",
    "axl.set(xticks = (-1, 1))"
   ]
  },
  {
   "cell_type": "code",
   "execution_count": 27,
   "id": "62c8515c",
   "metadata": {},
   "outputs": [
    {
     "data": {
      "text/plain": [
       "<seaborn.axisgrid.FacetGrid at 0x25b3e40e850>"
      ]
     },
     "execution_count": 27,
     "metadata": {},
     "output_type": "execute_result"
    },
    {
     "data": {
      "image/png": "[encoded data removed]",
      "text/plain": [
       "<Figure size 405x360 with 1 Axes>"
      ]
     },
     "metadata": {},
     "output_type": "display_data"
    }
   ],
   "source": [
    "axl2 = sns.lmplot(data = experimento, x = 'Chocolate', y = 'Porcoes', ci = None, hue = 'Farinha') #O efeito de chocolate aqui é uma relacao positiva entre o chocolate e a farinha\n",
    "axl2.set(xticks = (-1, 1))"
   ]
  },
  {
   "cell_type": "markdown",
   "id": "432c4e23",
   "metadata": {},
   "source": [
    "## Duas grandes hipóteses através da comparação entre esses gráficos. A primeira, que há provavelmente um efeito de interação entre a farinha e o chocolate e segundo, que a farinha, ela possui maior influência na quantidade de cupcakes produzidos."
   ]
  },
  {
   "cell_type": "code",
   "execution_count": null,
   "id": "5fe5d60e",
   "metadata": {},
   "outputs": [],
   "source": []
  },
  {
   "cell_type": "markdown",
   "id": "ebab7f48",
   "metadata": {},
   "source": [
    "# Ajuste do modelo estatístico "
   ]
  },
  {
   "attachments": {
    "image.png": {
     "image/png": "[encoded data removed]"
    }
   },
   "cell_type": "markdown",
   "id": "234f1b70",
   "metadata": {},
   "source": [
    "![image.png](attachment:image.png)"
   ]
  },
  {
   "cell_type": "code",
   "execution_count": null,
   "id": "acff8ddf",
   "metadata": {},
   "outputs": [],
   "source": []
  },
  {
   "cell_type": "code",
   "execution_count": 32,
   "id": "bdd555a8",
   "metadata": {},
   "outputs": [],
   "source": [
    "modelo = smf.ols(data=experimento, formula = 'Porcoes ~ Farinha + Chocolate + Farinha:Chocolate')   #aqui eu aplico o ajuste para entender e encontrar os valores de beta zero, beta um, beta dois e beta três do meu modelo estatistico"
   ]
  },
  {
   "cell_type": "code",
   "execution_count": 33,
   "id": "e9b00912",
   "metadata": {},
   "outputs": [],
   "source": [
    "modelos_ajustado = modelo.fit()"
   ]
  },
  {
   "cell_type": "code",
   "execution_count": 36,
   "id": "c55d5a8b",
   "metadata": {
    "scrolled": true
   },
   "outputs": [
    {
     "name": "stdout",
     "output_type": "stream",
     "text": [
      "                            OLS Regression Results                            \n",
      "==============================================================================\n",
      "Dep. Variable:                Porcoes   R-squared:                       1.000\n",
      "Model:                            OLS   Adj. R-squared:                    nan\n",
      "Method:                 Least Squares   F-statistic:                       nan\n",
      "Date:                Mon, 26 Sep 2022   Prob (F-statistic):                nan\n",
      "Time:                        15:12:50   Log-Likelihood:                 126.02\n",
      "No. Observations:                   4   AIC:                            -244.0\n",
      "Df Residuals:                       0   BIC:                            -246.5\n",
      "Df Model:                           3                                         \n",
      "Covariance Type:            nonrobust                                         \n",
      "=====================================================================================\n",
      "                        coef    std err          t      P>|t|      [0.025      0.975]\n",
      "-------------------------------------------------------------------------------------\n",
      "Intercept            32.2500        inf          0        nan         nan         nan\n",
      "Farinha              10.7500        inf          0        nan         nan         nan\n",
      "Chocolate             4.2500        inf          0        nan         nan         nan\n",
      "Farinha:Chocolate     1.7500        inf          0        nan         nan         nan\n",
      "==============================================================================\n",
      "Omnibus:                          nan   Durbin-Watson:                   1.500\n",
      "Prob(Omnibus):                    nan   Jarque-Bera (JB):                0.167\n",
      "Skew:                           0.000   Prob(JB):                        0.920\n",
      "Kurtosis:                       2.000   Cond. No.                         1.00\n",
      "==============================================================================\n",
      "\n",
      "Notes:\n",
      "[1] Standard Errors assume that the covariance matrix of the errors is correctly specified.\n"
     ]
    },
    {
     "name": "stderr",
     "output_type": "stream",
     "text": [
      "C:\\Users\\patricia.sousa\\Anaconda4\\lib\\site-packages\\statsmodels\\stats\\stattools.py:74: ValueWarning: omni_normtest is not valid with less than 8 observations; 4 samples were given.\n",
      "  warn(\"omni_normtest is not valid with less than 8 observations; %i \"\n",
      "C:\\Users\\patricia.sousa\\Anaconda4\\lib\\site-packages\\statsmodels\\regression\\linear_model.py:1749: RuntimeWarning: divide by zero encountered in true_divide\n",
      "  return 1 - (np.divide(self.nobs - self.k_constant, self.df_resid)\n",
      "C:\\Users\\patricia.sousa\\Anaconda4\\lib\\site-packages\\statsmodels\\regression\\linear_model.py:1749: RuntimeWarning: invalid value encountered in double_scalars\n",
      "  return 1 - (np.divide(self.nobs - self.k_constant, self.df_resid)\n",
      "C:\\Users\\patricia.sousa\\Anaconda4\\lib\\site-packages\\statsmodels\\regression\\linear_model.py:1671: RuntimeWarning: divide by zero encountered in double_scalars\n",
      "  return np.dot(wresid, wresid) / self.df_resid\n",
      "C:\\Users\\patricia.sousa\\Anaconda4\\lib\\site-packages\\statsmodels\\base\\model.py:1512: RuntimeWarning: invalid value encountered in multiply\n",
      "  cov_p = self.normalized_cov_params * scale\n"
     ]
    }
   ],
   "source": [
    "print(modelos_ajustado.summary())  #aqui eu obtendo o resultado dos coeficientes dos modelos "
   ]
  },
  {
   "cell_type": "code",
   "execution_count": 37,
   "id": "db9686ff",
   "metadata": {},
   "outputs": [],
   "source": [
    "centro = np.array ([ [0,0,29],    #criei uma matriz pois preciso aumenta meu grau de liberdade no teste (grau de liberdade é o quanto eu consigo ter como assertiv os numero que foram incluidos como Beta 0, Beta por ia vai)\n",
    "                     [0,0,30],\n",
    "                     [0,0,29],\n",
    "                     [0,0,30], ])"
   ]
  },
  {
   "cell_type": "code",
   "execution_count": 38,
   "id": "cc2c0a45",
   "metadata": {},
   "outputs": [],
   "source": [
    "centro_dataframe = pd.DataFrame(centro, columns = ['Farinha', 'Chocolate', 'Porcoes'], index = [4,5,6,7]) #inclui a minha lista de array dentro de um dataframe"
   ]
  },
  {
   "cell_type": "code",
   "execution_count": 39,
   "id": "d5244113",
   "metadata": {},
   "outputs": [
    {
     "data": {
      "text/html": [
       "<div>\n",
       "<style scoped>\n",
       "    .dataframe tbody tr th:only-of-type {\n",
       "        vertical-align: middle;\n",
       "    }\n",
       "\n",
       "    .dataframe tbody tr th {\n",
       "        vertical-align: top;\n",
       "    }\n",
       "\n",
       "    .dataframe thead th {\n",
       "        text-align: right;\n",
       "    }\n",
       "</style>\n",
       "<table border=\"1\" class=\"dataframe\">\n",
       "  <thead>\n",
       "    <tr style=\"text-align: right;\">\n",
       "      <th></th>\n",
       "      <th>Farinha</th>\n",
       "      <th>Chocolate</th>\n",
       "      <th>Porcoes</th>\n",
       "    </tr>\n",
       "  </thead>\n",
       "  <tbody>\n",
       "    <tr>\n",
       "      <th>4</th>\n",
       "      <td>0</td>\n",
       "      <td>0</td>\n",
       "      <td>29</td>\n",
       "    </tr>\n",
       "    <tr>\n",
       "      <th>5</th>\n",
       "      <td>0</td>\n",
       "      <td>0</td>\n",
       "      <td>30</td>\n",
       "    </tr>\n",
       "    <tr>\n",
       "      <th>6</th>\n",
       "      <td>0</td>\n",
       "      <td>0</td>\n",
       "      <td>29</td>\n",
       "    </tr>\n",
       "    <tr>\n",
       "      <th>7</th>\n",
       "      <td>0</td>\n",
       "      <td>0</td>\n",
       "      <td>30</td>\n",
       "    </tr>\n",
       "  </tbody>\n",
       "</table>\n",
       "</div>"
      ],
      "text/plain": [
       "   Farinha  Chocolate  Porcoes\n",
       "4        0          0       29\n",
       "5        0          0       30\n",
       "6        0          0       29\n",
       "7        0          0       30"
      ]
     },
     "execution_count": 39,
     "metadata": {},
     "output_type": "execute_result"
    }
   ],
   "source": [
    "centro_dataframe"
   ]
  },
  {
   "cell_type": "code",
   "execution_count": 41,
   "id": "2b099dad",
   "metadata": {},
   "outputs": [
    {
     "name": "stderr",
     "output_type": "stream",
     "text": [
      "C:\\Users\\patricia.sousa\\AppData\\Local\\Temp\\ipykernel_17188\\2549858177.py:1: FutureWarning: The frame.append method is deprecated and will be removed from pandas in a future version. Use pandas.concat instead.\n",
      "  experimento = experimento.append(centro_dataframe)\n"
     ]
    },
    {
     "data": {
      "text/html": [
       "<div>\n",
       "<style scoped>\n",
       "    .dataframe tbody tr th:only-of-type {\n",
       "        vertical-align: middle;\n",
       "    }\n",
       "\n",
       "    .dataframe tbody tr th {\n",
       "        vertical-align: top;\n",
       "    }\n",
       "\n",
       "    .dataframe thead th {\n",
       "        text-align: right;\n",
       "    }\n",
       "</style>\n",
       "<table border=\"1\" class=\"dataframe\">\n",
       "  <thead>\n",
       "    <tr style=\"text-align: right;\">\n",
       "      <th></th>\n",
       "      <th>Farinha</th>\n",
       "      <th>Chocolate</th>\n",
       "      <th>Porcoes</th>\n",
       "    </tr>\n",
       "  </thead>\n",
       "  <tbody>\n",
       "    <tr>\n",
       "      <th>0</th>\n",
       "      <td>-1</td>\n",
       "      <td>-1</td>\n",
       "      <td>19</td>\n",
       "    </tr>\n",
       "    <tr>\n",
       "      <th>1</th>\n",
       "      <td>1</td>\n",
       "      <td>-1</td>\n",
       "      <td>37</td>\n",
       "    </tr>\n",
       "    <tr>\n",
       "      <th>2</th>\n",
       "      <td>-1</td>\n",
       "      <td>1</td>\n",
       "      <td>24</td>\n",
       "    </tr>\n",
       "    <tr>\n",
       "      <th>3</th>\n",
       "      <td>1</td>\n",
       "      <td>1</td>\n",
       "      <td>49</td>\n",
       "    </tr>\n",
       "    <tr>\n",
       "      <th>4</th>\n",
       "      <td>0</td>\n",
       "      <td>0</td>\n",
       "      <td>29</td>\n",
       "    </tr>\n",
       "    <tr>\n",
       "      <th>5</th>\n",
       "      <td>0</td>\n",
       "      <td>0</td>\n",
       "      <td>30</td>\n",
       "    </tr>\n",
       "    <tr>\n",
       "      <th>6</th>\n",
       "      <td>0</td>\n",
       "      <td>0</td>\n",
       "      <td>29</td>\n",
       "    </tr>\n",
       "    <tr>\n",
       "      <th>7</th>\n",
       "      <td>0</td>\n",
       "      <td>0</td>\n",
       "      <td>30</td>\n",
       "    </tr>\n",
       "    <tr>\n",
       "      <th>4</th>\n",
       "      <td>0</td>\n",
       "      <td>0</td>\n",
       "      <td>29</td>\n",
       "    </tr>\n",
       "    <tr>\n",
       "      <th>5</th>\n",
       "      <td>0</td>\n",
       "      <td>0</td>\n",
       "      <td>30</td>\n",
       "    </tr>\n",
       "    <tr>\n",
       "      <th>6</th>\n",
       "      <td>0</td>\n",
       "      <td>0</td>\n",
       "      <td>29</td>\n",
       "    </tr>\n",
       "    <tr>\n",
       "      <th>7</th>\n",
       "      <td>0</td>\n",
       "      <td>0</td>\n",
       "      <td>30</td>\n",
       "    </tr>\n",
       "  </tbody>\n",
       "</table>\n",
       "</div>"
      ],
      "text/plain": [
       "   Farinha  Chocolate  Porcoes\n",
       "0       -1         -1       19\n",
       "1        1         -1       37\n",
       "2       -1          1       24\n",
       "3        1          1       49\n",
       "4        0          0       29\n",
       "5        0          0       30\n",
       "6        0          0       29\n",
       "7        0          0       30\n",
       "4        0          0       29\n",
       "5        0          0       30\n",
       "6        0          0       29\n",
       "7        0          0       30"
      ]
     },
     "execution_count": 41,
     "metadata": {},
     "output_type": "execute_result"
    }
   ],
   "source": [
    "experimento = experimento.append(centro_dataframe) #Inclui o Dataframe dentro do Dataframe original que é o de experimento\n",
    "experimento "
   ]
  },
  {
   "cell_type": "markdown",
   "id": "fd64763c",
   "metadata": {},
   "source": [
    "# Análise de significancia estatística"
   ]
  },
  {
   "cell_type": "code",
   "execution_count": 42,
   "id": "fc793c26",
   "metadata": {},
   "outputs": [],
   "source": [
    "modelo = smf.ols(data=experimento, formula = 'Porcoes ~ Farinha + Chocolate + Farinha:Chocolate')"
   ]
  },
  {
   "cell_type": "code",
   "execution_count": 43,
   "id": "6d558c51",
   "metadata": {},
   "outputs": [],
   "source": [
    "modelos_ajustado = modelo.fit()"
   ]
  },
  {
   "cell_type": "code",
   "execution_count": 45,
   "id": "7eaad05b",
   "metadata": {},
   "outputs": [
    {
     "name": "stdout",
     "output_type": "stream",
     "text": [
      "                            OLS Regression Results                            \n",
      "==============================================================================\n",
      "Dep. Variable:                Porcoes   R-squared:                       0.961\n",
      "Model:                            OLS   Adj. R-squared:                  0.946\n",
      "Method:                 Least Squares   F-statistic:                     65.77\n",
      "Date:                Mon, 26 Sep 2022   Prob (F-statistic):           5.58e-06\n",
      "Time:                        17:36:26   Log-Likelihood:                -20.709\n",
      "No. Observations:                  12   AIC:                             49.42\n",
      "Df Residuals:                       8   BIC:                             51.36\n",
      "Df Model:                           3                                         \n",
      "Covariance Type:            nonrobust                                         \n",
      "=====================================================================================\n",
      "                        coef    std err          t      P>|t|      [0.025      0.975]\n",
      "-------------------------------------------------------------------------------------\n",
      "Intercept            30.4167      0.481     63.299      0.000      29.309      31.525\n",
      "Farinha              10.7500      0.832     12.916      0.000       8.831      12.669\n",
      "Chocolate             4.2500      0.832      5.106      0.001       2.331       6.169\n",
      "Farinha:Chocolate     1.7500      0.832      2.103      0.069      -0.169       3.669\n",
      "==============================================================================\n",
      "Omnibus:                        4.310   Durbin-Watson:                   0.792\n",
      "Prob(Omnibus):                  0.116   Jarque-Bera (JB):                1.497\n",
      "Skew:                           0.431   Prob(JB):                        0.473\n",
      "Kurtosis:                       1.500   Cond. No.                         1.73\n",
      "==============================================================================\n",
      "\n",
      "Notes:\n",
      "[1] Standard Errors assume that the covariance matrix of the errors is correctly specified.\n"
     ]
    },
    {
     "name": "stderr",
     "output_type": "stream",
     "text": [
      "C:\\Users\\patricia.sousa\\Anaconda4\\lib\\site-packages\\scipy\\stats\\stats.py:1541: UserWarning: kurtosistest only valid for n>=20 ... continuing anyway, n=12\n",
      "  warnings.warn(\"kurtosistest only valid for n>=20 ... continuing \"\n"
     ]
    }
   ],
   "source": [
    "print(modelos_ajustado.summary())  #Os coficientes devem ser acima de 0, então eu inclui mais testes no experimento, inclui no dataframe e fiz novamente o ajuste estatistico para que eu consiga ter liberdade para fazer o testes ="
   ]
  },
  {
   "cell_type": "markdown",
   "id": "54871822",
   "metadata": {},
   "source": [
    " ### Analisando esse teste de significancia consigo identificar analisando P>| T| (Os valores de P > |t| (probabilidade de um parâmetro ajustado ser igual a zero)\n",
    " \n",
    " - o intercepto, ele tem uma probabilidade zero de a hipótese nula ser verdadeira, logo, este parâmetro, ele é estatisticamente significativo e para ele\n",
    " - A farinha também tem uma probabilidade zero de a hipótese nula ser verdadeira, logo, vou ficar com a hipótese alternativa e vou dizer que esse parâmetro, ele é estatisticamente significativo\n",
    " - Para o chocolate tem uma probabilidade 1.3% é menor do que aquele limite de 5%  definido, vou rejeitar para este caso a hipótese nula ele é diferente de zero e é estatisticamente significativo.\n",
    " - A interação ao efeito de inteiração entre a farinha e o chocolatee eu multiplicar esse valor aqui por cem, 15.6%, ele é maior do que aquele limite definido \n",
    " \n",
    " ##### Logo eu posso afirmar estatitiscamente que a interação não é estatisticamente significativa no estudo, ou seja no ponto de vista estatistico não influencia a quantidade de cupcakpes produzidos"
   ]
  },
  {
   "cell_type": "code",
   "execution_count": null,
   "id": "01f8db5d",
   "metadata": {},
   "outputs": [],
   "source": []
  },
  {
   "cell_type": "markdown",
   "id": "78f9f036",
   "metadata": {},
   "source": [
    "## Gráfico padronizado de Pareto"
   ]
  },
  {
   "cell_type": "code",
   "execution_count": 48,
   "id": "140e8b02",
   "metadata": {},
   "outputs": [
    {
     "data": {
      "text/plain": [
       "Intercept            63.299028\n",
       "Farinha              12.916155\n",
       "Chocolate             5.106387\n",
       "Farinha:Chocolate     2.102630\n",
       "dtype: float64"
      ]
     },
     "execution_count": 48,
     "metadata": {},
     "output_type": "execute_result"
    }
   ],
   "source": [
    "t_valores = modelos_ajustado.tvalues      #vou construir uma visualização de grafico de pareto com o resultado do meu teste de probabilidade\n",
    "t_valores "
   ]
  },
  {
   "cell_type": "code",
   "execution_count": 50,
   "id": "ee843162",
   "metadata": {},
   "outputs": [
    {
     "data": {
      "text/plain": [
       "['Intercept', 'Farinha', 'Chocolate', 'Farinha:Chocolate']"
      ]
     },
     "execution_count": 50,
     "metadata": {},
     "output_type": "execute_result"
    }
   ],
   "source": [
    "nome = t_valores.index.tolist()\n",
    "nome"
   ]
  },
  {
   "cell_type": "code",
   "execution_count": 54,
   "id": "691e9c67",
   "metadata": {},
   "outputs": [],
   "source": [
    "from scipy import stats"
   ]
  },
  {
   "cell_type": "code",
   "execution_count": 56,
   "id": "9c9a0c05",
   "metadata": {},
   "outputs": [],
   "source": [
    "distribuicao = stats.t(df=4)"
   ]
  },
  {
   "cell_type": "code",
   "execution_count": 57,
   "id": "b96b87e4",
   "metadata": {},
   "outputs": [
    {
     "data": {
      "text/plain": [
       "2.7764451051977987"
      ]
     },
     "execution_count": 57,
     "metadata": {},
     "output_type": "execute_result"
    }
   ],
   "source": [
    "distribuicao.ppf(q = 1 - 0.025)"
   ]
  },
  {
   "cell_type": "code",
   "execution_count": 60,
   "id": "caffa7c8",
   "metadata": {},
   "outputs": [
    {
     "data": {
      "text/plain": [
       "[2.7764451051977987,\n",
       " 2.7764451051977987,\n",
       " 2.7764451051977987,\n",
       " 2.7764451051977987]"
      ]
     },
     "execution_count": 60,
     "metadata": {},
     "output_type": "execute_result"
    }
   ],
   "source": [
    "limite = [distribuicao.ppf(q = 1 -0.025)]*len (nome)\n",
    "limite"
   ]
  },
  {
   "cell_type": "code",
   "execution_count": null,
   "id": "cf2aca08",
   "metadata": {},
   "outputs": [],
   "source": []
  },
  {
   "cell_type": "markdown",
   "id": "d474c97c",
   "metadata": {},
   "source": [
    " ## Plotar grafico"
   ]
  },
  {
   "cell_type": "code",
   "execution_count": 61,
   "id": "b42762cb",
   "metadata": {},
   "outputs": [
    {
     "data": {
      "text/plain": [
       "[<matplotlib.lines.Line2D at 0x25b411e9e50>]"
      ]
     },
     "execution_count": 61,
     "metadata": {},
     "output_type": "execute_result"
    },
    {
     "data": {
      "image/png": "[encoded data removed]",
      "text/plain": [
       "<Figure size 1080x432 with 1 Axes>"
      ]
     },
     "metadata": {},
     "output_type": "display_data"
    }
   ],
   "source": [
    " pareto = sns.barplot(x = t_valores, y = nome)\n",
    " pareto.figure.set_size_inches (15,6)\n",
    " pareto.tick_params(labelsize = 20)\n",
    " pareto.set_xlabel('t-valores', fontsize =20)\n",
    "\n",
    "pareto.plot(limite, nome, 'r')"
   ]
  },
  {
   "cell_type": "code",
   "execution_count": null,
   "id": "27629ede",
   "metadata": {},
   "outputs": [],
   "source": []
  },
  {
   "cell_type": "code",
   "execution_count": null,
   "id": "d29e88fb",
   "metadata": {},
   "outputs": [],
   "source": []
  },
  {
   "cell_type": "code",
   "execution_count": null,
   "id": "48ec8c49",
   "metadata": {},
   "outputs": [],
   "source": []
  },
  {
   "cell_type": "code",
   "execution_count": null,
   "id": "d70566bb",
   "metadata": {},
   "outputs": [],
   "source": []
  },
  {
   "cell_type": "code",
   "execution_count": null,
   "id": "3a5efb03",
   "metadata": {},
   "outputs": [],
   "source": []
  },
  {
   "cell_type": "code",
   "execution_count": null,
   "id": "d0af1df2",
   "metadata": {},
   "outputs": [],
   "source": []
  },
  {
   "cell_type": "code",
   "execution_count": null,
   "id": "dd2687fc",
   "metadata": {},
   "outputs": [],
   "source": []
  }
 ],
 "metadata": {
  "kernelspec": {
   "display_name": "Python 3 (ipykernel)",
   "language": "python",
   "name": "python3"
  },
  "language_info": {
   "codemirror_mode": {
    "name": "ipython",
    "version": 3
   },
   "file_extension": ".py",
   "mimetype": "text/x-python",
   "name": "python",
   "nbconvert_exporter": "python",
   "pygments_lexer": "ipython3",
   "version": "3.9.12"
  }
 },
 "nbformat": 4,
 "nbformat_minor": 5
}
